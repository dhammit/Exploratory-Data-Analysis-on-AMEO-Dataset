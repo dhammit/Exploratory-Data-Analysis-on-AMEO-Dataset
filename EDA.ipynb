{
 "cells": [
  {
   "cell_type": "code",
   "execution_count": 123,
   "id": "a6878307",
   "metadata": {},
   "outputs": [],
   "source": [
    "df = pd.read_csv('data.xlsx - Sheet1.csv')"
   ]
  },
  {
   "cell_type": "code",
   "execution_count": 129,
   "id": "55fab951",
   "metadata": {},
   "outputs": [
    {
     "name": "stdout",
     "output_type": "stream",
     "text": [
      "<class 'pandas.core.frame.DataFrame'>\n",
      "RangeIndex: 3998 entries, 0 to 3997\n",
      "Data columns (total 39 columns):\n",
      " #   Column                 Non-Null Count  Dtype  \n",
      "---  ------                 --------------  -----  \n",
      " 0   Unnamed: 0             3998 non-null   object \n",
      " 1   ID                     3998 non-null   int64  \n",
      " 2   Salary                 3998 non-null   float64\n",
      " 3   DOJ                    3998 non-null   object \n",
      " 4   DOL                    3998 non-null   object \n",
      " 5   Designation            3998 non-null   object \n",
      " 6   JobCity                3998 non-null   object \n",
      " 7   Gender                 3998 non-null   object \n",
      " 8   DOB                    3998 non-null   object \n",
      " 9   10percentage           3998 non-null   float64\n",
      " 10  10board                3998 non-null   object \n",
      " 11  12graduation           3998 non-null   int64  \n",
      " 12  12percentage           3998 non-null   float64\n",
      " 13  12board                3998 non-null   object \n",
      " 14  CollegeID              3998 non-null   int64  \n",
      " 15  CollegeTier            3998 non-null   int64  \n",
      " 16  Degree                 3998 non-null   object \n",
      " 17  Specialization         3998 non-null   object \n",
      " 18  collegeGPA             3998 non-null   float64\n",
      " 19  CollegeCityID          3998 non-null   int64  \n",
      " 20  CollegeCityTier        3998 non-null   int64  \n",
      " 21  CollegeState           3998 non-null   object \n",
      " 22  GraduationYear         3998 non-null   int64  \n",
      " 23  English                3998 non-null   int64  \n",
      " 24  Logical                3998 non-null   int64  \n",
      " 25  Quant                  3998 non-null   int64  \n",
      " 26  Domain                 3998 non-null   float64\n",
      " 27  ComputerProgramming    3998 non-null   int64  \n",
      " 28  ElectronicsAndSemicon  3998 non-null   int64  \n",
      " 29  ComputerScience        3998 non-null   int64  \n",
      " 30  MechanicalEngg         3998 non-null   int64  \n",
      " 31  ElectricalEngg         3998 non-null   int64  \n",
      " 32  TelecomEngg            3998 non-null   int64  \n",
      " 33  CivilEngg              3998 non-null   int64  \n",
      " 34  conscientiousness      3998 non-null   float64\n",
      " 35  agreeableness          3998 non-null   float64\n",
      " 36  extraversion           3998 non-null   float64\n",
      " 37  nueroticism            3998 non-null   float64\n",
      " 38  openess_to_experience  3998 non-null   float64\n",
      "dtypes: float64(10), int64(17), object(12)\n",
      "memory usage: 1.2+ MB\n"
     ]
    }
   ],
   "source": [
    "df.info()"
   ]
  },
  {
   "cell_type": "code",
   "execution_count": null,
   "id": "1efd9aef",
   "metadata": {},
   "outputs": [],
   "source": []
  }
 ],
 "metadata": {},
 "nbformat": 4,
 "nbformat_minor": 5
}
